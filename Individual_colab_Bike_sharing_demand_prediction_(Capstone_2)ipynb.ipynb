{
  "nbformat": 4,
  "nbformat_minor": 0,
  "metadata": {
    "colab": {
      "provenance": [],
      "mount_file_id": "1Bot5HshSRz9VaU_gvIb7J1Rxr7rUw9Ae",
      "authorship_tag": "ABX9TyMgCpyuCykRABZNoHoNCndN",
      "include_colab_link": true
    },
    "kernelspec": {
      "name": "python3",
      "display_name": "Python 3"
    },
    "language_info": {
      "name": "python"
    }
  },
  "cells": [
    {
      "cell_type": "markdown",
      "metadata": {
        "id": "view-in-github",
        "colab_type": "text"
      },
      "source": [
        "<a href=\"https://colab.research.google.com/github/Nikkiie/Bike-sharing-demand-prediction-Cap-2-/blob/main/Individual_colab_Bike_sharing_demand_prediction_(Capstone_2)ipynb.ipynb\" target=\"_parent\"><img src=\"https://colab.research.google.com/assets/colab-badge.svg\" alt=\"Open In Colab\"/></a>"
      ]
    },
    {
      "cell_type": "markdown",
      "source": [
        "## **PROJECT TITLE - Seoul Bike Sharing Demand Prediction** "
      ],
      "metadata": {
        "id": "7s7OlupghQ4S"
      }
    },
    {
      "cell_type": "markdown",
      "source": [
        "# **PROJECT SUMMARY:**\n",
        " \n",
        " **Currently Rental bikes are introduced in many urban cities for the enhancement of mobility comfort. It is important to make the rental bike available and accessible to the public at the right time as it lessens the waiting time. Eventually, providing the city with a stable supply of rental bikes becomes a major concern. The crucial part is the prediction of bike count required at each hour for the stable supply of rental bikes.**\n",
        "\n",
        " # **Data Description:**\n",
        "\n",
        " **Attribute Information:**\n",
        "\n",
        "  --> Date : year-month-day\n",
        "\n",
        "  --> Rented Bike count - Count of bikes rented at each hour\n",
        "\n",
        "  --> Hour - Hour of he day\n",
        "\n",
        "  --> Temperature-Temperature in Celsius\n",
        "\n",
        "  --> Humidity - %\n",
        "\n",
        "  --> Windspeed - m/s\n",
        "\n",
        "  --> Visibility - 10m\n",
        "\n",
        "  --> Dew point temperature - Celsius\n",
        "\n",
        "  --> Solar radiation - MJ/m2\n",
        "\n",
        "  --> Rainfall - mm\n",
        "\n",
        "  --> Snowfall - cm\n",
        "\n",
        "  --> Seasons - Winter, Spring, Summer, Autumn\n",
        "\n",
        "  --> Holiday - Holiday/No holiday\n",
        "\n",
        "  --> Functional Day - NoFunc(Non Functional Hours), Fun(Functional hours)"
      ],
      "metadata": {
        "id": "lmrx679uhye4"
      }
    },
    {
      "cell_type": "markdown",
      "source": [
        "# **GitHub Link -**"
      ],
      "metadata": {
        "id": "__T9mNOkisEh"
      }
    },
    {
      "cell_type": "markdown",
      "source": [
        "### Importing Libraries"
      ],
      "metadata": {
        "id": "uE5xtdWkkpZF"
      }
    },
    {
      "cell_type": "code",
      "source": [
        "# Importing libraries\n",
        "\n",
        "import numpy as np\n",
        "import pandas as pd\n",
        "import seaborn as sns\n",
        "import matplotlib.pyplot as plt\n",
        "%matplotlib inline\n",
        "from sklearn.preprocessing import MinMaxScaler,StandardScaler\n",
        "from sklearn.model_selection import train_test_split,GridSearchCV\n",
        "from sklearn.metrics import mean_squared_error,r2_score,mean_absolute_error\n",
        "from sklearn.linear_model import Lasso,Ridge\n",
        "from sklearn.linear_model import LinearRegression\n",
        "from sklearn.tree import DecisionTreeRegressor\n",
        "from sklearn.ensemble import RandomForestRegressor,GradientBoostingRegressor\n",
        "from statsmodels.stats.outliers_influence import variance_inflation_factor\n",
        "from xgboost import XGBRegressor\n",
        "\n",
        "import warnings\n",
        "warnings.filterwarnings('ignore')"
      ],
      "metadata": {
        "id": "LD5kEEf0kaqK"
      },
      "execution_count": 1,
      "outputs": []
    },
    {
      "cell_type": "markdown",
      "source": [
        "### Loading the dataset"
      ],
      "metadata": {
        "id": "oEgrKDRpEvcc"
      }
    },
    {
      "cell_type": "code",
      "source": [
        "#Mounting the drive\n",
        "\n",
        "from google.colab import drive\n",
        "drive.mount('/content/drive')"
      ],
      "metadata": {
        "id": "vI79GDJQkamL",
        "colab": {
          "base_uri": "https://localhost:8080/"
        },
        "outputId": "679ed850-94e3-45f9-f838-5bde1ce5ae50"
      },
      "execution_count": 2,
      "outputs": [
        {
          "output_type": "stream",
          "name": "stdout",
          "text": [
            "Drive already mounted at /content/drive; to attempt to forcibly remount, call drive.mount(\"/content/drive\", force_remount=True).\n"
          ]
        }
      ]
    },
    {
      "cell_type": "code",
      "source": [
        "#Giving the file path\n",
        "\n",
        "file_path = ('/content/drive/MyDrive/cap 2/SeoulBikeData (1).csv')\n",
        "bike_df = pd.read_csv(file_path, encoding = 'ISO-8859-1')"
      ],
      "metadata": {
        "id": "CvSi_xlukaiG"
      },
      "execution_count": 6,
      "outputs": []
    },
    {
      "cell_type": "markdown",
      "source": [
        "### Dataset First View\n"
      ],
      "metadata": {
        "id": "dznKeGEdFdYr"
      }
    },
    {
      "cell_type": "code",
      "source": [
        "# It is a good habit to copy the data for backup\n",
        "df = bike_df.copy()"
      ],
      "metadata": {
        "id": "Hj6Q-TzpFyVV"
      },
      "execution_count": 7,
      "outputs": []
    },
    {
      "cell_type": "code",
      "source": [
        "# Checking top 5 rows in dataframe\n",
        "bike_df.head()"
      ],
      "metadata": {
        "id": "gtvtqy6xkaem"
      },
      "execution_count": null,
      "outputs": []
    },
    {
      "cell_type": "code",
      "source": [
        "# Checking last 5 rows in dataframe\n",
        "bike_df.tail()"
      ],
      "metadata": {
        "id": "SVbsvuTwGMcf"
      },
      "execution_count": null,
      "outputs": []
    },
    {
      "cell_type": "markdown",
      "source": [
        "### Dataset Rows & Columns count"
      ],
      "metadata": {
        "id": "T4s2nBxTGmz5"
      }
    },
    {
      "cell_type": "code",
      "source": [
        "# Data shape\n",
        "bike_df.shape"
      ],
      "metadata": {
        "colab": {
          "base_uri": "https://localhost:8080/"
        },
        "id": "fTcHQv6mGMZd",
        "outputId": "006b1896-b41d-4485-dd19-cb1184c29a25"
      },
      "execution_count": 10,
      "outputs": [
        {
          "output_type": "execute_result",
          "data": {
            "text/plain": [
              "(8760, 14)"
            ]
          },
          "metadata": {},
          "execution_count": 10
        }
      ]
    },
    {
      "cell_type": "code",
      "source": [
        "#Check all the coloumns present in our dataset\n",
        "bike_df.columns"
      ],
      "metadata": {
        "colab": {
          "base_uri": "https://localhost:8080/"
        },
        "id": "TYKm9L9CG_ML",
        "outputId": "e4e9e528-10e2-4794-f316-5242c3109dbc"
      },
      "execution_count": 11,
      "outputs": [
        {
          "output_type": "execute_result",
          "data": {
            "text/plain": [
              "Index(['Date', 'Rented Bike Count', 'Hour', 'Temperature(°C)', 'Humidity(%)',\n",
              "       'Wind speed (m/s)', 'Visibility (10m)', 'Dew point temperature(°C)',\n",
              "       'Solar Radiation (MJ/m2)', 'Rainfall(mm)', 'Snowfall (cm)', 'Seasons',\n",
              "       'Holiday', 'Functioning Day'],\n",
              "      dtype='object')"
            ]
          },
          "metadata": {},
          "execution_count": 11
        }
      ]
    },
    {
      "cell_type": "code",
      "source": [
        "# Renaming Columns\n",
        "bike_df.rename(columns={'Date': 'Date', 'Rented Bike Count': 'bike_count', 'Hour': 'hour',\n",
        "                   'Temperature(°C)': 'temp', 'Humidity(%)': 'humidity', 'Wind speed (m/s)': 'wind_speed',\n",
        "                   'Visibility (10m)': 'visibility', 'Dew point temperature(°C)': 'dew_temp',\n",
        "                   'Solar Radiation (MJ/m2)': 'sunlight', 'Rainfall(mm)': 'rain', 'Snowfall (cm)': 'snow',\n",
        "                   'Seasons': 'season', 'Holiday': 'holiday', 'Functioning Day': 'functioning_day'}, inplace=True)"
      ],
      "metadata": {
        "id": "a2xYJ0OwGMXT"
      },
      "execution_count": 12,
      "outputs": []
    },
    {
      "cell_type": "code",
      "source": [
        "# again checking head of dataframe\n",
        "\n",
        "bike_df.head()"
      ],
      "metadata": {
        "id": "maGEFtA6GMU7"
      },
      "execution_count": null,
      "outputs": []
    },
    {
      "cell_type": "markdown",
      "source": [
        "### Dataset Information"
      ],
      "metadata": {
        "id": "Tj9VXqeeHox_"
      }
    },
    {
      "cell_type": "code",
      "source": [
        "# data dtype\n",
        "bike_df.info()"
      ],
      "metadata": {
        "colab": {
          "base_uri": "https://localhost:8080/"
        },
        "id": "cQwY0wnaGMPF",
        "outputId": "5d5edef5-fc80-4a8a-8406-77453e993b84"
      },
      "execution_count": 14,
      "outputs": [
        {
          "output_type": "stream",
          "name": "stdout",
          "text": [
            "<class 'pandas.core.frame.DataFrame'>\n",
            "RangeIndex: 8760 entries, 0 to 8759\n",
            "Data columns (total 14 columns):\n",
            " #   Column           Non-Null Count  Dtype  \n",
            "---  ------           --------------  -----  \n",
            " 0   Date             8760 non-null   object \n",
            " 1   bike_count       8760 non-null   int64  \n",
            " 2   hour             8760 non-null   int64  \n",
            " 3   temp             8760 non-null   float64\n",
            " 4   humidity         8760 non-null   int64  \n",
            " 5   wind_speed       8760 non-null   float64\n",
            " 6   visibility       8760 non-null   int64  \n",
            " 7   dew_temp         8760 non-null   float64\n",
            " 8   sunlight         8760 non-null   float64\n",
            " 9   rain             8760 non-null   float64\n",
            " 10  snow             8760 non-null   float64\n",
            " 11  season           8760 non-null   object \n",
            " 12  holiday          8760 non-null   object \n",
            " 13  functioning_day  8760 non-null   object \n",
            "dtypes: float64(6), int64(4), object(4)\n",
            "memory usage: 958.2+ KB\n"
          ]
        }
      ]
    },
    {
      "cell_type": "markdown",
      "source": [
        "#### Duplicate Values"
      ],
      "metadata": {
        "id": "ubUsg-3xIHO0"
      }
    },
    {
      "cell_type": "code",
      "source": [
        "# Checking duplicates\n",
        "print(len(bike_df[df.duplicated()]))"
      ],
      "metadata": {
        "colab": {
          "base_uri": "https://localhost:8080/"
        },
        "id": "_8kNFbyHIH98",
        "outputId": "ce34025b-8767-4577-f655-b7c2a15416ed"
      },
      "execution_count": 16,
      "outputs": [
        {
          "output_type": "stream",
          "name": "stdout",
          "text": [
            "0\n"
          ]
        }
      ]
    },
    {
      "cell_type": "markdown",
      "source": [
        "#### Missing Values/Null Values"
      ],
      "metadata": {
        "id": "BEY_miBEIprv"
      }
    },
    {
      "cell_type": "code",
      "source": [
        "# Missing data counts\n",
        "bike_df.isnull().sum()"
      ],
      "metadata": {
        "colab": {
          "base_uri": "https://localhost:8080/"
        },
        "id": "r1uQXofBIIyJ",
        "outputId": "564e06dc-ac3a-46b3-c367-9406daff4d05"
      },
      "execution_count": 17,
      "outputs": [
        {
          "output_type": "execute_result",
          "data": {
            "text/plain": [
              "Date               0\n",
              "bike_count         0\n",
              "hour               0\n",
              "temp               0\n",
              "humidity           0\n",
              "wind_speed         0\n",
              "visibility         0\n",
              "dew_temp           0\n",
              "sunlight           0\n",
              "rain               0\n",
              "snow               0\n",
              "season             0\n",
              "holiday            0\n",
              "functioning_day    0\n",
              "dtype: int64"
            ]
          },
          "metadata": {},
          "execution_count": 17
        }
      ]
    },
    {
      "cell_type": "code",
      "source": [],
      "metadata": {
        "id": "e0J0fylkIIug"
      },
      "execution_count": null,
      "outputs": []
    },
    {
      "cell_type": "code",
      "source": [],
      "metadata": {
        "id": "VCeBwaHVIIr4"
      },
      "execution_count": null,
      "outputs": []
    },
    {
      "cell_type": "code",
      "source": [],
      "metadata": {
        "id": "AcBL3fzAIIo0"
      },
      "execution_count": null,
      "outputs": []
    }
  ]
}