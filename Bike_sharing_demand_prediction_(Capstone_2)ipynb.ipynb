{
  "nbformat": 4,
  "nbformat_minor": 0,
  "metadata": {
    "colab": {
      "provenance": [],
      "authorship_tag": "ABX9TyOOrcSSexKwf7a4WLElPG1V",
      "include_colab_link": true
    },
    "kernelspec": {
      "name": "python3",
      "display_name": "Python 3"
    },
    "language_info": {
      "name": "python"
    }
  },
  "cells": [
    {
      "cell_type": "markdown",
      "metadata": {
        "id": "view-in-github",
        "colab_type": "text"
      },
      "source": [
        "<a href=\"https://colab.research.google.com/github/Nikkiie/Bike-sharing-demand-prediction-Cap-2-/blob/main/Bike_sharing_demand_prediction_(Capstone_2)ipynb.ipynb\" target=\"_parent\"><img src=\"https://colab.research.google.com/assets/colab-badge.svg\" alt=\"Open In Colab\"/></a>"
      ]
    },
    {
      "cell_type": "markdown",
      "source": [
        "## **PROJECT TITLE - Seoul Bike Sharing Demand Prediction** "
      ],
      "metadata": {
        "id": "7s7OlupghQ4S"
      }
    },
    {
      "cell_type": "markdown",
      "source": [
        "# **PROJECT SUMMARY:**\n",
        " \n",
        " **Currently Rental bikes are introduced in many urban cities for the enhancement of mobility comfort. It is important to make the rental bike available and accessible to the public at the right time as it lessens the waiting time. Eventually, providing the city with a stable supply of rental bikes becomes a major concern. The crucial part is the prediction of bike count required at each hour for the stable supply of rental bikes.**\n",
        "\n",
        " # **Data Description:**\n",
        "\n",
        " **Attribute Information:**\n",
        "\n",
        "  --> Date : year-month-day\n",
        "\n",
        "  --> Rented Bike count - Count of bikes rented at each hour\n",
        "\n",
        "  --> Hour - Hour of he day\n",
        "\n",
        "  --> Temperature-Temperature in Celsius\n",
        "\n",
        "  --> Humidity - %\n",
        "\n",
        "  --> Windspeed - m/s\n",
        "\n",
        "  --> Visibility - 10m\n",
        "\n",
        "  --> Dew point temperature - Celsius\n",
        "\n",
        "  --> Solar radiation - MJ/m2\n",
        "\n",
        "  --> Rainfall - mm\n",
        "\n",
        "  --> Snowfall - cm\n",
        "\n",
        "  --> Seasons - Winter, Spring, Summer, Autumn\n",
        "\n",
        "  --> Holiday - Holiday/No holiday\n",
        "\n",
        "  --> Functional Day - NoFunc(Non Functional Hours), Fun(Functional hours)"
      ],
      "metadata": {
        "id": "lmrx679uhye4"
      }
    },
    {
      "cell_type": "markdown",
      "source": [
        "# **GitHub Link -**"
      ],
      "metadata": {
        "id": "__T9mNOkisEh"
      }
    },
    {
      "cell_type": "markdown",
      "source": [
        "### Importing Libraries"
      ],
      "metadata": {
        "id": "uE5xtdWkkpZF"
      }
    },
    {
      "cell_type": "code",
      "source": [
        "# Importing libraries\n",
        "\n",
        "import numpy as np\n",
        "import pandas as pd\n",
        "import seaborn as sns\n",
        "import matplotlib.pyplot as plt\n",
        "%matplotlib inline\n",
        "from sklearn.preprocessing import MinMaxScaler,StandardScaler\n",
        "from sklearn.model_selection import train_test_split,GridSearchCV\n",
        "from sklearn.metrics import mean_squared_error,r2_score,mean_absolute_error\n",
        "from sklearn.linear_model import Lasso,Ridge\n",
        "from sklearn.linear_model import LinearRegression\n",
        "from sklearn.tree import DecisionTreeRegressor\n",
        "from sklearn.ensemble import RandomForestRegressor,GradientBoostingRegressor\n",
        "from statsmodels.stats.outliers_influence import variance_inflation_factor\n",
        "from xgboost import XGBRegressor\n",
        "\n",
        "import warnings\n",
        "warnings.filterwarnings('ignore')"
      ],
      "metadata": {
        "id": "LD5kEEf0kaqK"
      },
      "execution_count": null,
      "outputs": []
    },
    {
      "cell_type": "code",
      "source": [],
      "metadata": {
        "id": "vI79GDJQkamL"
      },
      "execution_count": null,
      "outputs": []
    },
    {
      "cell_type": "code",
      "source": [],
      "metadata": {
        "id": "CvSi_xlukaiG"
      },
      "execution_count": null,
      "outputs": []
    },
    {
      "cell_type": "code",
      "source": [],
      "metadata": {
        "id": "gtvtqy6xkaem"
      },
      "execution_count": null,
      "outputs": []
    }
  ]
}